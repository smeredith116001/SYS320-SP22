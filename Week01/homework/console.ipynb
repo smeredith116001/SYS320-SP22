{
 "cells": [
  {
   "cell_type": "code",
   "execution_count": 1,
   "id": "21c3e94c",
   "metadata": {},
   "outputs": [
    {
     "data": {
      "text/plain": [
       "<module 'syslogKlogind' from 'C:\\\\Users\\\\Sebby\\\\SYS320-SP22\\\\Week01\\\\homework\\\\syslogKlogind.py'>"
      ]
     },
     "execution_count": 1,
     "metadata": {},
     "output_type": "execute_result"
    }
   ],
   "source": [
    "import syslogSSH1,syslogKlogind\n",
    "import importlib\n",
    "importlib.reload(syslogSSH1)\n",
    "importlib.reload(syslogKlogind)"
   ]
  },
  {
   "cell_type": "markdown",
   "id": "e3a0ef20",
   "metadata": {},
   "source": [
    "# Review system logs"
   ]
  },
  {
   "cell_type": "markdown",
   "id": "a53dbc2c",
   "metadata": {},
   "source": [
    "### Klogind Connections"
   ]
  },
  {
   "cell_type": "code",
   "execution_count": 2,
   "id": "96339ac0",
   "metadata": {},
   "outputs": [
    {
     "name": "stdout",
     "output_type": "stream",
     "text": [
      "(163.27.187.39):\n"
     ]
    }
   ],
   "source": [
    "syslogKlogind.klogind_connection('../../logs/Linux_2k.log',['klogind.*Authentication failed.*'])"
   ]
  },
  {
   "cell_type": "markdown",
   "id": "aceb6ea2",
   "metadata": {},
   "source": [
    "### SSH Authentcation Failure domains"
   ]
  },
  {
   "cell_type": "code",
   "execution_count": 3,
   "id": "08f88cd4",
   "metadata": {
    "scrolled": true
   },
   "outputs": [
    {
     "name": "stdout",
     "output_type": "stream",
     "text": [
      "test\n"
     ]
    }
   ],
   "source": [
    "syslogSSH1.ssh_fail('../../logs/Linux_2k.log',['sshd\\(pam_unix\\).* session opened for user.*'])"
   ]
  },
  {
   "cell_type": "code",
   "execution_count": null,
   "id": "e7506d14",
   "metadata": {},
   "outputs": [],
   "source": []
  }
 ],
 "metadata": {
  "kernelspec": {
   "display_name": "Python 3 (ipykernel)",
   "language": "python",
   "name": "python3"
  },
  "language_info": {
   "codemirror_mode": {
    "name": "ipython",
    "version": 3
   },
   "file_extension": ".py",
   "mimetype": "text/x-python",
   "name": "python",
   "nbconvert_exporter": "python",
   "pygments_lexer": "ipython3",
   "version": "3.9.7"
  }
 },
 "nbformat": 4,
 "nbformat_minor": 5
}
