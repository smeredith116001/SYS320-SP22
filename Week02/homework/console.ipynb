{
 "cells": [
  {
   "cell_type": "code",
   "execution_count": 1,
   "id": "21c3e94c",
   "metadata": {
    "scrolled": true
   },
   "outputs": [
    {
     "data": {
      "text/plain": [
       "<module 'ProxyLog1' from 'C:\\\\Users\\\\Sebby\\\\SYS320-SP22-New\\\\Week02\\\\homework\\\\ProxyLog1.py'>"
      ]
     },
     "execution_count": 1,
     "metadata": {},
     "output_type": "execute_result"
    }
   ],
   "source": [
    "import ProxyLog\n",
    "import ProxyLog1\n",
    "import importlib\n",
    "importlib.reload(ProxyLog)\n",
    "importlib.reload(ProxyLog1)"
   ]
  },
  {
   "cell_type": "markdown",
   "id": "e3a0ef20",
   "metadata": {},
   "source": [
    "# APACHE PHP"
   ]
  },
  {
   "cell_type": "code",
   "execution_count": 2,
   "id": "a38c2459",
   "metadata": {
    "scrolled": false
   },
   "outputs": [
    {
     "name": "stdout",
     "output_type": "stream",
     "text": [
      "QQ.exe tcpconn6.tencent.com:443 close,bytes sent,0bytes recievedreceived,\n",
      "QQExternal.exe proxy.cse.cuhk.edu.hk:5070 close,bytes sent,KB)bytes recieved388\n",
      "QQ.exe tcpconn.tencent.com:80 close,bytes sent,0bytes recievedreceived,\n",
      "QQ.exe tcpconn3.tencent.com:80 close,bytes sent,0bytes recievedreceived,\n",
      "QQ.exe tcpconn3.tencent.com:443 close,bytes sent,121bytes recievedreceived,\n",
      "QQ.exe tcpconn6.tencent.com:80 close,bytes sent,0bytes recievedreceived,\n"
     ]
    }
   ],
   "source": [
    "ProxyLog.proxy_events('../../logs/Proxifier_2k.log','apache','QQ')"
   ]
  },
  {
   "cell_type": "code",
   "execution_count": 3,
   "id": "baa9854d",
   "metadata": {
    "scrolled": true
   },
   "outputs": [
    {
     "name": "stdout",
     "output_type": "stream",
     "text": [
      "QQ.exe 183.60.49.182:443opened with proxy\n",
      "QQ.exe tcpconn6.tencent.com:443opened with proxy\n",
      "QQ.exe tcpconn.tencent.com:80opened with proxy\n",
      "QQProtectUpd.exe qdun-data.qq.com:443opened with proxy\n",
      "QQPlayer.exe btrace.qq.com:80opened with proxy\n",
      "QQ.exe cgi.qqweb.qq.com:80opened with proxy\n",
      "QQ.exe tcpconn3.tencent.com:443opened with proxy\n",
      "QQ.exe tcpconn6.tencent.com:80opened with proxy\n"
     ]
    }
   ],
   "source": [
    "ProxyLog1.proxy_events1('../../logs/Proxifier_2k.log','apache','Proxy')"
   ]
  },
  {
   "cell_type": "code",
   "execution_count": null,
   "id": "77340ba8",
   "metadata": {},
   "outputs": [],
   "source": []
  },
  {
   "cell_type": "code",
   "execution_count": null,
   "id": "e639c2a4",
   "metadata": {},
   "outputs": [],
   "source": []
  }
 ],
 "metadata": {
  "kernelspec": {
   "display_name": "Python 3 (ipykernel)",
   "language": "python",
   "name": "python3"
  },
  "language_info": {
   "codemirror_mode": {
    "name": "ipython",
    "version": 3
   },
   "file_extension": ".py",
   "mimetype": "text/x-python",
   "name": "python",
   "nbconvert_exporter": "python",
   "pygments_lexer": "ipython3",
   "version": "3.9.7"
  }
 },
 "nbformat": 4,
 "nbformat_minor": 5
}
