{
 "cells": [
  {
   "cell_type": "code",
   "execution_count": 1,
   "id": "21c3e94c",
   "metadata": {
    "scrolled": true
   },
   "outputs": [
    {
     "data": {
      "text/plain": [
       "<module 'apacheLog' from 'C:\\\\Users\\\\smere\\\\SYS320-SP22-main\\\\SYS320-SP22\\\\Week02\\\\class\\\\apacheLog.py'>"
      ]
     },
     "execution_count": 1,
     "metadata": {},
     "output_type": "execute_result"
    }
   ],
   "source": [
    "import apacheLog\n",
    "import importlib\n",
    "importlib.reload(apacheLog)"
   ]
  },
  {
   "cell_type": "markdown",
   "id": "e3a0ef20",
   "metadata": {},
   "source": [
    "# APACHE PHP"
   ]
  },
  {
   "cell_type": "code",
   "execution_count": 2,
   "id": "a38c2459",
   "metadata": {
    "scrolled": true
   },
   "outputs": [
    {
     "name": "stdout",
     "output_type": "stream",
     "text": [
      "GET /wordpress/wp-login.php 404\n",
      "GET /mediawiki/index.php?title=Main_Page 404\n"
     ]
    }
   ],
   "source": [
    "apacheLog.apache_events('../../logs/access.log','apache','php')"
   ]
  },
  {
   "cell_type": "code",
   "execution_count": 3,
   "id": "baa9854d",
   "metadata": {
    "scrolled": true
   },
   "outputs": [
    {
     "name": "stdout",
     "output_type": "stream",
     "text": [
      "POST /cgi-bin/test-cgi 404\n",
      "GET /cgi-bin/test-cgi 404\n",
      "GET /cgi-bin/htsearch?Exclude=%60/etc/passwd%60 404\n"
     ]
    }
   ],
   "source": [
    "apacheLog.apache_events('../../logs/access.log','apache','cgi')"
   ]
  },
  {
   "cell_type": "code",
   "execution_count": null,
   "id": "77340ba8",
   "metadata": {},
   "outputs": [],
   "source": []
  }
 ],
 "metadata": {
  "kernelspec": {
   "display_name": "Python 3 (ipykernel)",
   "language": "python",
   "name": "python3"
  },
  "language_info": {
   "codemirror_mode": {
    "name": "ipython",
    "version": 3
   },
   "file_extension": ".py",
   "mimetype": "text/x-python",
   "name": "python",
   "nbconvert_exporter": "python",
   "pygments_lexer": "ipython3",
   "version": "3.9.7"
  }
 },
 "nbformat": 4,
 "nbformat_minor": 5
}
