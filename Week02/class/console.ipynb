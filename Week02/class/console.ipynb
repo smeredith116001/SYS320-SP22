{
 "cells": [
  {
   "cell_type": "code",
   "execution_count": 1,
   "id": "21c3e94c",
   "metadata": {
    "scrolled": true
   },
   "outputs": [
    {
     "ename": "ModuleNotFoundError",
     "evalue": "No module named 'yaml'",
     "output_type": "error",
     "traceback": [
      "\u001b[1;31m---------------------------------------------------------------------------\u001b[0m",
      "\u001b[1;31mModuleNotFoundError\u001b[0m                       Traceback (most recent call last)",
      "\u001b[1;32mc:\\Users\\Sebby\\SYS320-SP22-New\\SYS320-SP22\\Week02\\class\\console.ipynb Cell 1'\u001b[0m in \u001b[0;36m<module>\u001b[1;34m\u001b[0m\n\u001b[1;32m----> <a href='vscode-notebook-cell:/c%3A/Users/Sebby/SYS320-SP22-New/SYS320-SP22/Week02/class/console.ipynb#ch0000000?line=0'>1</a>\u001b[0m \u001b[39mimport\u001b[39;00m \u001b[39mapacheLog\u001b[39;00m\n\u001b[0;32m      <a href='vscode-notebook-cell:/c%3A/Users/Sebby/SYS320-SP22-New/SYS320-SP22/Week02/class/console.ipynb#ch0000000?line=1'>2</a>\u001b[0m \u001b[39mimport\u001b[39;00m \u001b[39mimportlib\u001b[39;00m\n\u001b[0;32m      <a href='vscode-notebook-cell:/c%3A/Users/Sebby/SYS320-SP22-New/SYS320-SP22/Week02/class/console.ipynb#ch0000000?line=2'>3</a>\u001b[0m importlib\u001b[39m.\u001b[39mreload(apacheLog)\n",
      "File \u001b[1;32mc:\\Users\\Sebby\\SYS320-SP22-New\\SYS320-SP22\\Week02\\class\\apacheLog.py:1\u001b[0m, in \u001b[0;36m<module>\u001b[1;34m\u001b[0m\n\u001b[1;32m----> <a href='file:///c%3A/Users/Sebby/SYS320-SP22-New/SYS320-SP22/Week02/class/apacheLog.py?line=0'>1</a>\u001b[0m \u001b[39mimport\u001b[39;00m \u001b[39mlogCheck\u001b[39;00m\n\u001b[0;32m      <a href='file:///c%3A/Users/Sebby/SYS320-SP22-New/SYS320-SP22/Week02/class/apacheLog.py?line=1'>2</a>\u001b[0m \u001b[39mimport\u001b[39;00m \u001b[39mimportlib\u001b[39;00m\n\u001b[0;32m      <a href='file:///c%3A/Users/Sebby/SYS320-SP22-New/SYS320-SP22/Week02/class/apacheLog.py?line=2'>3</a>\u001b[0m importlib\u001b[39m.\u001b[39mreload(logCheck)\n",
      "File \u001b[1;32mc:\\Users\\Sebby\\SYS320-SP22-New\\SYS320-SP22\\Week02\\class\\logCheck.py:2\u001b[0m, in \u001b[0;36m<module>\u001b[1;34m\u001b[0m\n\u001b[0;32m      <a href='file:///c%3A/Users/Sebby/SYS320-SP22-New/SYS320-SP22/Week02/class/logCheck.py?line=0'>1</a>\u001b[0m \u001b[39m# Create and interfaced to search through syslog files\u001b[39;00m\n\u001b[1;32m----> <a href='file:///c%3A/Users/Sebby/SYS320-SP22-New/SYS320-SP22/Week02/class/logCheck.py?line=1'>2</a>\u001b[0m \u001b[39mimport\u001b[39;00m \u001b[39mre\u001b[39;00m\u001b[39m,\u001b[39m \u001b[39msys\u001b[39;00m\u001b[39m,\u001b[39m \u001b[39myaml\u001b[39;00m\n\u001b[0;32m      <a href='file:///c%3A/Users/Sebby/SYS320-SP22-New/SYS320-SP22/Week02/class/logCheck.py?line=3'>4</a>\u001b[0m \u001b[39m# Open the yaml file\u001b[39;00m\n\u001b[0;32m      <a href='file:///c%3A/Users/Sebby/SYS320-SP22-New/SYS320-SP22/Week02/class/logCheck.py?line=4'>5</a>\u001b[0m \u001b[39mtry\u001b[39;00m:\n",
      "\u001b[1;31mModuleNotFoundError\u001b[0m: No module named 'yaml'"
     ]
    }
   ],
   "source": [
    "import apacheLog\n",
    "import importlib\n",
    "importlib.reload(apacheLog)"
   ]
  },
  {
   "cell_type": "markdown",
   "id": "e3a0ef20",
   "metadata": {},
   "source": [
    "# APACHE PHP"
   ]
  },
  {
   "cell_type": "code",
   "execution_count": null,
   "id": "a38c2459",
   "metadata": {
    "scrolled": true
   },
   "outputs": [
    {
     "name": "stdout",
     "output_type": "stream",
     "text": [
      "GET /wordpress/wp-login.php 404\n",
      "GET /mediawiki/index.php?title=Main_Page 404\n"
     ]
    }
   ],
   "source": [
    "apacheLog.apache_events('../../logs/access.log','apache','php')"
   ]
  },
  {
   "cell_type": "code",
   "execution_count": null,
   "id": "baa9854d",
   "metadata": {
    "scrolled": true
   },
   "outputs": [
    {
     "name": "stdout",
     "output_type": "stream",
     "text": [
      "POST /cgi-bin/test-cgi 404\n",
      "GET /cgi-bin/test-cgi 404\n",
      "GET /cgi-bin/htsearch?Exclude=%60/etc/passwd%60 404\n"
     ]
    }
   ],
   "source": [
    "apacheLog.apache_events('../../logs/access.log','apache','cgi')"
   ]
  },
  {
   "cell_type": "code",
   "execution_count": null,
   "id": "77340ba8",
   "metadata": {},
   "outputs": [],
   "source": []
  }
 ],
 "metadata": {
  "kernelspec": {
   "display_name": "Python 3 (ipykernel)",
   "language": "python",
   "name": "python3"
  },
  "language_info": {
   "codemirror_mode": {
    "name": "ipython",
    "version": 3
   },
   "file_extension": ".py",
   "mimetype": "text/x-python",
   "name": "python",
   "nbconvert_exporter": "python",
   "pygments_lexer": "ipython3",
   "version": "3.9.10"
  }
 },
 "nbformat": 4,
 "nbformat_minor": 5
}
