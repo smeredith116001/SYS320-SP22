{
 "cells": [
  {
   "cell_type": "code",
   "execution_count": null,
   "metadata": {},
   "outputs": [],
   "source": [
    "import paramiko\n",
    "\n",
    "from getpass import getpass\n",
    "\n",
    "#Create the password prompt\n",
    "thePass = getpass(prompt=\"Please enter your SSH password: \")\n",
    "\n",
    "#Host Infomation\n",
    "host = \"localhost\"\n",
    "port = \"22\"\n",
    "username = \"adminstrator\"\n",
    "password = thePass\n",
    "\n",
    "try:\n",
    "\n",
    "    ssh = paramiko.SSHClient()\n",
    "    ssh.set_missing_host_key_policy(paramiko.AutoAddPolicy())\n",
    "    ssh.connect(host, port, username, password)\n",
    "\n",
    "except paramiko.AuthenticationException:\n",
    "    print(\"Authenication Failed.\")"
   ]
  },
  {
   "cell_type": "code",
   "execution_count": 5,
   "metadata": {},
   "outputs": [
    {
     "ename": "AttributeError",
     "evalue": "'NoneType' object has no attribute 'open_session'",
     "output_type": "error",
     "traceback": [
      "\u001b[1;31m---------------------------------------------------------------------------\u001b[0m",
      "\u001b[1;31mAttributeError\u001b[0m                            Traceback (most recent call last)",
      "\u001b[1;32mc:\\Users\\smere\\Downloads\\SYS320-SP22\\Week06\\class\\class.ipynb Cell 2'\u001b[0m in \u001b[0;36m<module>\u001b[1;34m\u001b[0m\n\u001b[0;32m      <a href='vscode-notebook-cell:/c%3A/Users/smere/Downloads/SYS320-SP22/Week06/class/class.ipynb#ch0000001?line=1'>2</a>\u001b[0m command \u001b[39m=\u001b[39m \u001b[39m\"\u001b[39m\u001b[39mps -ef\u001b[39m\u001b[39m\"\u001b[39m\n\u001b[0;32m      <a href='vscode-notebook-cell:/c%3A/Users/smere/Downloads/SYS320-SP22/Week06/class/class.ipynb#ch0000001?line=3'>4</a>\u001b[0m \u001b[39m# Get the output from the command\u001b[39;00m\n\u001b[1;32m----> <a href='vscode-notebook-cell:/c%3A/Users/smere/Downloads/SYS320-SP22/Week06/class/class.ipynb#ch0000001?line=4'>5</a>\u001b[0m stdin, stdout, stderr \u001b[39m=\u001b[39m ssh\u001b[39m.\u001b[39;49mexec_command(command)\n\u001b[0;32m      <a href='vscode-notebook-cell:/c%3A/Users/smere/Downloads/SYS320-SP22/Week06/class/class.ipynb#ch0000001?line=6'>7</a>\u001b[0m \u001b[39m# Get result from stdout\u001b[39;00m\n\u001b[0;32m      <a href='vscode-notebook-cell:/c%3A/Users/smere/Downloads/SYS320-SP22/Week06/class/class.ipynb#ch0000001?line=7'>8</a>\u001b[0m lines \u001b[39m=\u001b[39m stdout\u001b[39m.\u001b[39mreadlines()\n",
      "File \u001b[1;32m~\\AppData\\Local\\Programs\\Python\\Python310\\lib\\site-packages\\paramiko\\client.py:510\u001b[0m, in \u001b[0;36mSSHClient.exec_command\u001b[1;34m(self, command, bufsize, timeout, get_pty, environment)\u001b[0m\n\u001b[0;32m    <a href='file:///~/AppData/Local/Programs/Python/Python310/lib/site-packages/paramiko/client.py?line=469'>470</a>\u001b[0m \u001b[39mdef\u001b[39;00m \u001b[39mexec_command\u001b[39m(\n\u001b[0;32m    <a href='file:///~/AppData/Local/Programs/Python/Python310/lib/site-packages/paramiko/client.py?line=470'>471</a>\u001b[0m     \u001b[39mself\u001b[39m,\n\u001b[0;32m    <a href='file:///~/AppData/Local/Programs/Python/Python310/lib/site-packages/paramiko/client.py?line=471'>472</a>\u001b[0m     command,\n\u001b[1;32m   (...)\u001b[0m\n\u001b[0;32m    <a href='file:///~/AppData/Local/Programs/Python/Python310/lib/site-packages/paramiko/client.py?line=475'>476</a>\u001b[0m     environment\u001b[39m=\u001b[39m\u001b[39mNone\u001b[39;00m,\n\u001b[0;32m    <a href='file:///~/AppData/Local/Programs/Python/Python310/lib/site-packages/paramiko/client.py?line=476'>477</a>\u001b[0m ):\n\u001b[0;32m    <a href='file:///~/AppData/Local/Programs/Python/Python310/lib/site-packages/paramiko/client.py?line=477'>478</a>\u001b[0m     \u001b[39m\"\"\"\u001b[39;00m\n\u001b[0;32m    <a href='file:///~/AppData/Local/Programs/Python/Python310/lib/site-packages/paramiko/client.py?line=478'>479</a>\u001b[0m \u001b[39m    Execute a command on the SSH server.  A new `.Channel` is opened and\u001b[39;00m\n\u001b[0;32m    <a href='file:///~/AppData/Local/Programs/Python/Python310/lib/site-packages/paramiko/client.py?line=479'>480</a>\u001b[0m \u001b[39m    the requested command is executed.  The command's input and output\u001b[39;00m\n\u001b[1;32m   (...)\u001b[0m\n\u001b[0;32m    <a href='file:///~/AppData/Local/Programs/Python/Python310/lib/site-packages/paramiko/client.py?line=507'>508</a>\u001b[0m \u001b[39m        Added the ``get_pty`` kwarg.\u001b[39;00m\n\u001b[0;32m    <a href='file:///~/AppData/Local/Programs/Python/Python310/lib/site-packages/paramiko/client.py?line=508'>509</a>\u001b[0m \u001b[39m    \"\"\"\u001b[39;00m\n\u001b[1;32m--> <a href='file:///~/AppData/Local/Programs/Python/Python310/lib/site-packages/paramiko/client.py?line=509'>510</a>\u001b[0m     chan \u001b[39m=\u001b[39m \u001b[39mself\u001b[39;49m\u001b[39m.\u001b[39;49m_transport\u001b[39m.\u001b[39;49mopen_session(timeout\u001b[39m=\u001b[39mtimeout)\n\u001b[0;32m    <a href='file:///~/AppData/Local/Programs/Python/Python310/lib/site-packages/paramiko/client.py?line=510'>511</a>\u001b[0m     \u001b[39mif\u001b[39;00m get_pty:\n\u001b[0;32m    <a href='file:///~/AppData/Local/Programs/Python/Python310/lib/site-packages/paramiko/client.py?line=511'>512</a>\u001b[0m         chan\u001b[39m.\u001b[39mget_pty()\n",
      "\u001b[1;31mAttributeError\u001b[0m: 'NoneType' object has no attribute 'open_session'"
     ]
    }
   ],
   "source": [
    "# Run a command\n",
    "#command = \"ps -ef ; netstat -an ; last -adx\"\n",
    "#List of commands\n",
    "command = ['ps -ef ', 'netstat -an ', 'last -adx', 'cut -d: f1 /etc/passwd']\n",
    "\n",
    "for eachCMD in command:\n",
    "    # Get the output from the command\n",
    "    stdin, stdout, stderr = ssh.exec_command(eachCMD)\n",
    "\n",
    "    # Get result from stdout\n",
    "    lines = stdout.readlines()\n",
    "    #print(lines)\n",
    "\n",
    "    #Convert the list to a string \n",
    "    output = ''.join(lines)\n",
    "    # Header output\n",
    "    sepHeader = '' + '### BEGIN ' + eachCMD + '###\\n\\n'\n",
    "    # Footer\n",
    "    sepFooter = '' + '### END ' + eachCMD + '###\\n\\n'\n",
    "\n",
    "    cmd_output = sepHeader + output + sepFooter\n",
    "\n",
    "    # Save the cmd output to a file\n",
    "    with open ('ssh_results.txt', 'a') as f:\n",
    "        f.write(cmd_output)\n",
    "    #print(output)\n",
    "ssh.close()"
   ]
  },
  {
   "cell_type": "code",
   "execution_count": null,
   "metadata": {},
   "outputs": [],
   "source": []
  }
 ],
 "metadata": {
  "interpreter": {
   "hash": "fa555297df5aa867e8766c8a3d7ff45a0885e46031eca6d567cdd3e7036a30ae"
  },
  "kernelspec": {
   "display_name": "Python 3.10.2 64-bit (windows store)",
   "language": "python",
   "name": "python3"
  },
  "language_info": {
   "codemirror_mode": {
    "name": "ipython",
    "version": 3
   },
   "file_extension": ".py",
   "mimetype": "text/x-python",
   "name": "python",
   "nbconvert_exporter": "python",
   "pygments_lexer": "ipython3",
   "version": "3.10.2"
  },
  "orig_nbformat": 4
 },
 "nbformat": 4,
 "nbformat_minor": 2
}
