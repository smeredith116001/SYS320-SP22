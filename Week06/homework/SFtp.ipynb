{
 "cells": [
  {
   "cell_type": "code",
<<<<<<< HEAD
   "execution_count": 3,
   "metadata": {},
   "outputs": [
    {
     "ename": "ModuleNotFoundError",
     "evalue": "No module named 'paramiko'",
     "output_type": "error",
     "traceback": [
      "\u001b[1;31m---------------------------------------------------------------------------\u001b[0m",
      "\u001b[1;31mModuleNotFoundError\u001b[0m                       Traceback (most recent call last)",
      "\u001b[1;32mc:\\Users\\smere\\Downloads\\SYS320-SP22\\Week06\\class\\SFtp.ipynb Cell 1'\u001b[0m in \u001b[0;36m<cell line: 1>\u001b[1;34m()\u001b[0m\n\u001b[1;32m----> <a href='vscode-notebook-cell:/c%3A/Users/smere/Downloads/SYS320-SP22/Week06/class/SFtp.ipynb#ch0000000?line=0'>1</a>\u001b[0m \u001b[39mimport\u001b[39;00m \u001b[39mparamiko\u001b[39;00m\n\u001b[0;32m      <a href='vscode-notebook-cell:/c%3A/Users/smere/Downloads/SYS320-SP22/Week06/class/SFtp.ipynb#ch0000000?line=2'>3</a>\u001b[0m \u001b[39mfrom\u001b[39;00m \u001b[39mgetpass\u001b[39;00m \u001b[39mimport\u001b[39;00m getpass\n\u001b[0;32m      <a href='vscode-notebook-cell:/c%3A/Users/smere/Downloads/SYS320-SP22/Week06/class/SFtp.ipynb#ch0000000?line=4'>5</a>\u001b[0m \u001b[39m#Create the password prompt\u001b[39;00m\n",
      "\u001b[1;31mModuleNotFoundError\u001b[0m: No module named 'paramiko'"
     ]
    }
   ],
   "source": [
    "import paramiko\n",
    "\n",
    "from getpass import getpass\n",
=======
   "execution_count": 6,
   "metadata": {},
   "outputs": [],
   "source": [
    "import paramiko\n",
    "import os.path as path\n",
    "import os\n",
    "\n",
    "from getpass import getpass\n",
    "from pathlib import Path\n",
    "\n",
    "\n",
    "theFile = input(\"What is the name of the results file\")\n",
    "\n",
    "\n",
    "\n",
    "if path.exists(theFile) == True:\n",
    "    fileExist = input(\"This file already exists would you like to delete it\")\n",
    "    if fileExist == \"y\":\n",
    "        os.remove(theFile)\n",
    "else:\n",
    "    print(\"The file does not already exist\")\n",
>>>>>>> 860dfa97febec72eddebd76a9038600e8b9c3476
    "\n",
    "#Create the password prompt\n",
    "thePass = getpass(prompt=\"Please enter your SSH password: \")\n",
    "\n",
    "#Host Infomation\n",
<<<<<<< HEAD
    "host = \"localhost\"\n",
    "port = \"22\"\n",
    "username = \"adminstrator\"\n",
=======
    "host = \"192.168.6.71\"\n",
    "port = \"2222\"\n",
    "username = \"sebastian.meredith\"\n",
>>>>>>> 860dfa97febec72eddebd76a9038600e8b9c3476
    "password = thePass\n",
    "\n",
    "try:\n",
    "\n",
    "    ssh = paramiko.SSHClient()\n",
    "    ssh.set_missing_host_key_policy(paramiko.AutoAddPolicy())\n",
    "    ssh.connect(host, port, username, password)\n",
    "\n",
    "except paramiko.AuthenticationException:\n",
    "    print(\"Authenication Failed.\")"
   ]
  },
  {
   "cell_type": "code",
<<<<<<< HEAD
   "execution_count": null,
=======
   "execution_count": 7,
>>>>>>> 860dfa97febec72eddebd76a9038600e8b9c3476
   "metadata": {},
   "outputs": [],
   "source": [
    "sftp = ssh.open_sftp()\n",
<<<<<<< HEAD
    "files = ['/etc/hosts','/etc/passwd','var/log/auth.log']\n",
    "for eachFile in files:\n",
    "\n",
    "    # Create a list from the filename\n",
    "    x = eachFile.split(\"/\")\n",
    "\n",
    "    filename = x[-1]\n",
    "\n",
    "    #Local path to store files\n",
    "    local_path = \"remote_files/\" + filename\n",
    "\n",
    "    sftp.get(eachFile, local_path)\n",
    "\n",
=======
    "sftp.put('fs.py', \"fs.py\")\n",
    "\n",
    "# File to traverse a given directory andf it's subdirs and retrieve all the files\n",
    "\n",
    "command = ['python3 fs.py -d /usr/bin']\n",
    "\n",
    "for eachCMD in command:\n",
    "    # Get the output from the command\n",
    "    stdin, stdout, stderr = ssh.exec_command(eachCMD)\n",
    "\n",
    "    # Get result from stdout\n",
    "    lines = stdout.readlines()\n",
    "    #print(lines)\n",
    "\n",
    "    #Convert the list to a string \n",
    "    output = ''.join(lines)\n",
    "    # Header output\n",
    "    sepHeader = '' + '### BEGIN ' + eachCMD + '###\\n\\n'\n",
    "    # Footer\n",
    "    sepFooter = '' + '### END ' + eachCMD + '###\\n\\n'\n",
    "\n",
    "    cmd_output = sepHeader + output + sepFooter\n",
    "\n",
    "    # Save the cmd output to a file\n",
    "    with open ('ssh_results.txt', 'a') as f:\n",
    "        f.write(cmd_output)\n",
    "    #print(output)\n",
>>>>>>> 860dfa97febec72eddebd76a9038600e8b9c3476
    "ssh.close()\n"
   ]
  },
  {
   "cell_type": "code",
   "execution_count": null,
   "metadata": {},
   "outputs": [],
   "source": []
  }
 ],
 "metadata": {
  "interpreter": {
   "hash": "fa555297df5aa867e8766c8a3d7ff45a0885e46031eca6d567cdd3e7036a30ae"
  },
  "kernelspec": {
   "display_name": "Python 3.10.2 64-bit (windows store)",
   "language": "python",
   "name": "python3"
  },
  "language_info": {
   "codemirror_mode": {
    "name": "ipython",
    "version": 3
   },
   "file_extension": ".py",
   "mimetype": "text/x-python",
   "name": "python",
   "nbconvert_exporter": "python",
   "pygments_lexer": "ipython3",
   "version": "3.10.2"
  },
  "orig_nbformat": 4
 },
 "nbformat": 4,
 "nbformat_minor": 2
}
