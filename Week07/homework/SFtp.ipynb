{
 "cells": [
  {
   "cell_type": "code",
   "execution_count": 31,
   "metadata": {},
   "outputs": [],
   "source": [
    "import paramiko\n",
    "import os.path as path\n",
    "import os\n",
    "\n",
    "from getpass import getpass\n",
    "from pathlib import Path\n",
    "\n",
    "\n",
    "theFile = input(\"What is the name of the results file\")\n",
    "\n",
    "\n",
    "\n",
    "if path.exists(theFile) == True:\n",
    "    fileExist = input(\"This file already exists would you like to delete it\")\n",
    "    if fileExist == \"y\":\n",
    "        os.remove(theFile)\n",
    "else:\n",
    "    print(\"The file does not already exist\")\n",
    "\n",
    "#Create the password prompt\n",
    "thePass = getpass(prompt=\"Please enter your SSH password: \")\n",
    "\n",
    "#Host Infomation\n",
    "host = \"192.168.6.71\"\n",
    "port = \"2222\"\n",
    "username = \"sebastian.meredith\"\n",
    "password = thePass\n",
    "\n",
    "try:\n",
    "\n",
    "    ssh = paramiko.SSHClient()\n",
    "    ssh.set_missing_host_key_policy(paramiko.AutoAddPolicy())\n",
    "    ssh.connect(host, port, username, password)\n",
    "\n",
    "except paramiko.AuthenticationException:\n",
    "    print(\"Authenication Failed.\")"
   ]
  },
  {
   "cell_type": "code",
   "execution_count": 32,
   "metadata": {},
   "outputs": [],
   "source": [
    "sftp = ssh.open_sftp()\n",
    "sftp.put('fs.py', \"fs.py\")\n",
    "\n",
    "# File to traverse a given directory andf it's subdirs and retrieve all the files\n",
    "\n",
    "command = ['/home/ubuntu/kraken --folder /usr/bin --folder  --folder /usr/sbin/   --folder /usr/local/bin  --folder /sbin  --folder /usr/local/sbin  --folder /bin' , 'lsof -u root', 'lsof -p 0022','grep ssh /etc/services','grep ssh /proc/4/root']\n",
    "for eachCMD in command:\n",
    "    # Get the output from the command\n",
    "    stdin, stdout, stderr = ssh.exec_command(eachCMD)\n",
    "    \n",
    "    # Get result from stdout\n",
    "    lines = stdout.readlines()\n",
    "    #print(lines)\n",
    "\n",
    "    #Convert the list to a string \n",
    "    output = ''.join(lines)\n",
    "    # Header output\n",
    "    sepHeader = '' + '### BEGIN ' + eachCMD + '###\\n\\n'\n",
    "    # Footer\n",
    "    sepFooter = '' + '### END ' + eachCMD + '###\\n\\n'\n",
    "\n",
    "    cmd_output = sepHeader + output + sepFooter\n",
    "\n",
    "    # Save the cmd output to a file\n",
    "    with open ('ssh_results.txt', 'a') as f:\n",
    "        f.write(cmd_output)\n",
    "    #print(output)\n",
    "ssh.close()\n"
   ]
  },
  {
   "cell_type": "code",
   "execution_count": null,
   "metadata": {},
   "outputs": [],
   "source": []
  }
 ],
 "metadata": {
  "interpreter": {
   "hash": "fa555297df5aa867e8766c8a3d7ff45a0885e46031eca6d567cdd3e7036a30ae"
  },
  "kernelspec": {
   "display_name": "Python 3.10.2 64-bit (windows store)",
   "language": "python",
   "name": "python3"
  },
  "language_info": {
   "codemirror_mode": {
    "name": "ipython",
    "version": 3
   },
   "file_extension": ".py",
   "mimetype": "text/x-python",
   "name": "python",
   "nbconvert_exporter": "python",
   "pygments_lexer": "ipython3",
   "version": "3.10.2"
  },
  "orig_nbformat": 4
 },
 "nbformat": 4,
 "nbformat_minor": 2
}
