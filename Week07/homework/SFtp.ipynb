{
 "cells": [
  {
   "cell_type": "code",
   "execution_count": 8,
   "metadata": {},
   "outputs": [],
   "source": [
    "import paramiko\n",
    "import os.path as path\n",
    "import os\n",
    "\n",
    "from getpass import getpass\n",
    "from pathlib import Path\n",
    "\n",
    "\n",
    "theFile = input(\"What is the name of the results file\")\n",
    "\n",
    "\n",
    "\n",
    "if path.exists(theFile) == True:\n",
    "    fileExist = input(\"This file already exists would you like to delete it\")\n",
    "    if fileExist == \"y\":\n",
    "        os.remove(theFile)\n",
    "else:\n",
    "    print(\"The file does not already exist\")\n",
    "\n",
    "#Create the password prompt\n",
    "thePass = getpass(prompt=\"Please enter your SSH password: \")\n",
    "\n",
    "#Host Infomation\n",
    "host = \"192.168.6.71\"\n",
    "port = \"2222\"\n",
    "username = \"sebastian.meredith\"\n",
    "password = thePass\n",
    "\n",
    "try:\n",
    "\n",
    "    ssh = paramiko.SSHClient()\n",
    "    ssh.set_missing_host_key_policy(paramiko.AutoAddPolicy())\n",
    "    ssh.connect(host, port, username, password)\n",
    "\n",
    "except paramiko.AuthenticationException:\n",
    "    print(\"Authenication Failed.\")"
   ]
  },
  {
   "cell_type": "code",
   "execution_count": 9,
   "metadata": {},
   "outputs": [
    {
     "ename": "FileNotFoundError",
     "evalue": "[Errno 2] No such file or directory: 'remote_files/p.dalton'",
     "output_type": "error",
     "traceback": [
      "\u001b[1;31m---------------------------------------------------------------------------\u001b[0m",
      "\u001b[1;31mFileNotFoundError\u001b[0m                         Traceback (most recent call last)",
      "Input \u001b[1;32mIn [9]\u001b[0m, in \u001b[0;36m<cell line: 31>\u001b[1;34m()\u001b[0m\n\u001b[0;32m     33\u001b[0m     filename \u001b[39m=\u001b[39m x [\u001b[39m-\u001b[39m\u001b[39m1\u001b[39m]\n\u001b[0;32m     34\u001b[0m     local_path \u001b[39m=\u001b[39m \u001b[39m\"\u001b[39m\u001b[39mremote_files/\u001b[39m\u001b[39m\"\u001b[39m \u001b[39m+\u001b[39m filename\n\u001b[1;32m---> 35\u001b[0m     sftp\u001b[39m.\u001b[39;49mget(eachFile, local_path)\n\u001b[0;32m     36\u001b[0m ssh\u001b[39m.\u001b[39mclose()\n",
      "File \u001b[1;32m~\\AppData\\Local\\Programs\\Python\\Python310\\lib\\site-packages\\paramiko\\sftp_client.py:810\u001b[0m, in \u001b[0;36mSFTPClient.get\u001b[1;34m(self, remotepath, localpath, callback, prefetch)\u001b[0m\n\u001b[0;32m    <a href='file:///c%3A/Users/Sebby/AppData/Local/Programs/Python/Python310/lib/site-packages/paramiko/sftp_client.py?line=789'>790</a>\u001b[0m \u001b[39mdef\u001b[39;00m \u001b[39mget\u001b[39m(\u001b[39mself\u001b[39m, remotepath, localpath, callback\u001b[39m=\u001b[39m\u001b[39mNone\u001b[39;00m, prefetch\u001b[39m=\u001b[39m\u001b[39mTrue\u001b[39;00m):\n\u001b[0;32m    <a href='file:///c%3A/Users/Sebby/AppData/Local/Programs/Python/Python310/lib/site-packages/paramiko/sftp_client.py?line=790'>791</a>\u001b[0m     \u001b[39m\"\"\"\u001b[39;00m\n\u001b[0;32m    <a href='file:///c%3A/Users/Sebby/AppData/Local/Programs/Python/Python310/lib/site-packages/paramiko/sftp_client.py?line=791'>792</a>\u001b[0m \u001b[39m    Copy a remote file (``remotepath``) from the SFTP server to the local\u001b[39;00m\n\u001b[0;32m    <a href='file:///c%3A/Users/Sebby/AppData/Local/Programs/Python/Python310/lib/site-packages/paramiko/sftp_client.py?line=792'>793</a>\u001b[0m \u001b[39m    host as ``localpath``.  Any exception raised by operations will be\u001b[39;00m\n\u001b[1;32m   (...)\u001b[0m\n\u001b[0;32m    <a href='file:///c%3A/Users/Sebby/AppData/Local/Programs/Python/Python310/lib/site-packages/paramiko/sftp_client.py?line=807'>808</a>\u001b[0m \u001b[39m        Added the ``prefetch`` keyword argument.\u001b[39;00m\n\u001b[0;32m    <a href='file:///c%3A/Users/Sebby/AppData/Local/Programs/Python/Python310/lib/site-packages/paramiko/sftp_client.py?line=808'>809</a>\u001b[0m \u001b[39m    \"\"\"\u001b[39;00m\n\u001b[1;32m--> <a href='file:///c%3A/Users/Sebby/AppData/Local/Programs/Python/Python310/lib/site-packages/paramiko/sftp_client.py?line=809'>810</a>\u001b[0m     \u001b[39mwith\u001b[39;00m \u001b[39mopen\u001b[39;49m(localpath, \u001b[39m\"\u001b[39;49m\u001b[39mwb\u001b[39;49m\u001b[39m\"\u001b[39;49m) \u001b[39mas\u001b[39;00m fl:\n\u001b[0;32m    <a href='file:///c%3A/Users/Sebby/AppData/Local/Programs/Python/Python310/lib/site-packages/paramiko/sftp_client.py?line=810'>811</a>\u001b[0m         size \u001b[39m=\u001b[39m \u001b[39mself\u001b[39m\u001b[39m.\u001b[39mgetfo(remotepath, fl, callback, prefetch)\n\u001b[0;32m    <a href='file:///c%3A/Users/Sebby/AppData/Local/Programs/Python/Python310/lib/site-packages/paramiko/sftp_client.py?line=811'>812</a>\u001b[0m     s \u001b[39m=\u001b[39m os\u001b[39m.\u001b[39mstat(localpath)\n",
      "\u001b[1;31mFileNotFoundError\u001b[0m: [Errno 2] No such file or directory: 'remote_files/p.dalton'"
     ]
    }
   ],
   "source": [
    "sftp = ssh.open_sftp()\n",
    "sftp.put('download.py', \"download.py\")\n",
    "# File to traverse a given directory andf it's subdirs and retrieve all the files\n",
    "sftp.get(\"bad_files\")\n",
    "command = ['sudo -S ps -ef' , 'sudo -S /home/ubuntu/kraken --folder /usr/bin --folder  --folder /usr/sbin/   --folder /usr/local/bin  --folder /sbin  --folder /usr/local/sbin  --folder /bin' , 'sudo -S lsof -p 148658', 'sudo -S lsof -i :8080','sudo -S grep ssh /etc/passwd','sudo -S last p.dalton','grep http-alt /etc/services', 'python3 download.py -d /home/p.dalton']\n",
    "files = ['/home/p.dalton', '/usr/local/bin' , '/dev/null']\n",
    "for eachCMD in command:\n",
    "    # Get the output from the command\n",
    "    (stdin, stdout, stderr) = ssh.exec_command(eachCMD)\n",
    "    \n",
    "\n",
    "    stdin.write(thePass + \"\\n\")\n",
    "    # Get result from stdout\n",
    "    lines = stdout.readlines()\n",
    "    #print(lines)\n",
    "\n",
    "    #Convert the list to a string \n",
    "    output = ''.join(lines)\n",
    "    # Header output\n",
    "    sepHeader = '' + '### BEGIN ' + eachCMD + '###\\n\\n'\n",
    "    # Footer\n",
    "    sepFooter = '' + '### END ' + eachCMD + '###\\n\\n'\n",
    "\n",
    "    cmd_output = sepHeader + output + sepFooter\n",
    "\n",
    "    # Save the cmd output to a file\n",
    "    with open ('ssh_results.txt', 'a') as f:\n",
    "        f.write(cmd_output)\n",
    "    #print(output)\n",
    "\n",
    "for eachFile in files:\n",
    "    x = eachFile.split (\"/\")\n",
    "    filename = x [-1]\n",
    "    local_path = \"remote_files/\" + filename\n",
    "    sftp.get(eachFile, local_path)\n",
    "ssh.close()\n",
    "\n"
   ]
  },
  {
   "cell_type": "code",
   "execution_count": null,
   "metadata": {},
   "outputs": [],
   "source": []
  }
 ],
 "metadata": {
  "interpreter": {
   "hash": "fa555297df5aa867e8766c8a3d7ff45a0885e46031eca6d567cdd3e7036a30ae"
  },
  "kernelspec": {
   "display_name": "Python 3.10.2 64-bit (windows store)",
   "language": "python",
   "name": "python3"
  },
  "language_info": {
   "codemirror_mode": {
    "name": "ipython",
    "version": 3
   },
   "file_extension": ".py",
   "mimetype": "text/x-python",
   "name": "python",
   "nbconvert_exporter": "python",
   "pygments_lexer": "ipython3",
   "version": "3.10.2"
  },
  "orig_nbformat": 4
 },
 "nbformat": 4,
 "nbformat_minor": 2
}
