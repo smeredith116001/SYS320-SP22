{
 "cells": [
  {
   "cell_type": "code",
   "execution_count": 4,
   "metadata": {},
   "outputs": [],
   "source": [
    "import paramiko\n",
    "import os.path as path\n",
    "import os\n",
    "\n",
    "from getpass import getpass\n",
    "from pathlib import Path\n",
    "\n",
    "\n",
    "theFile = input(\"What is the name of the results file\")\n",
    "\n",
    "\n",
    "\n",
    "if path.exists(theFile) == True:\n",
    "    fileExist = input(\"This file already exists would you like to delete it\")\n",
    "    if fileExist == \"y\":\n",
    "        os.remove(theFile)\n",
    "else:\n",
    "    print(\"The file does not already exist\")\n",
    "\n",
    "#Create the password prompt\n",
    "thePass = getpass(prompt=\"Please enter your SSH password: \")\n",
    "\n",
    "#Host Infomation\n",
    "host = \"192.168.6.71\"\n",
    "port = \"2222\"\n",
    "username = \"sebastian.meredith\"\n",
    "password = thePass\n",
    "\n",
    "try:\n",
    "\n",
    "    ssh = paramiko.SSHClient()\n",
    "    ssh.set_missing_host_key_policy(paramiko.AutoAddPolicy())\n",
    "    ssh.connect(host, port, username, password)\n",
    "\n",
    "except paramiko.AuthenticationException:\n",
    "    print(\"Authenication Failed.\")"
   ]
  },
  {
   "cell_type": "code",
   "execution_count": 5,
   "metadata": {},
   "outputs": [
    {
     "ename": "OSError",
     "evalue": "Failure",
     "output_type": "error",
     "traceback": [
      "\u001b[1;31m---------------------------------------------------------------------------\u001b[0m",
      "\u001b[1;31mOSError\u001b[0m                                   Traceback (most recent call last)",
      "\u001b[1;32mc:\\Users\\Sebby\\SYS320-SP22-New\\SYS320-SP22\\Week07\\homework\\SFtp.ipynb Cell 2'\u001b[0m in \u001b[0;36m<cell line: 29>\u001b[1;34m()\u001b[0m\n\u001b[0;32m     <a href='vscode-notebook-cell:/c%3A/Users/Sebby/SYS320-SP22-New/SYS320-SP22/Week07/homework/SFtp.ipynb#ch0000001?line=30'>31</a>\u001b[0m     filename \u001b[39m=\u001b[39m x [\u001b[39m-\u001b[39m\u001b[39m1\u001b[39m]\n\u001b[0;32m     <a href='vscode-notebook-cell:/c%3A/Users/Sebby/SYS320-SP22-New/SYS320-SP22/Week07/homework/SFtp.ipynb#ch0000001?line=32'>33</a>\u001b[0m     local_path \u001b[39m=\u001b[39m \u001b[39m\"\u001b[39m\u001b[39mremote_files/\u001b[39m\u001b[39m\"\u001b[39m \u001b[39m+\u001b[39m filename\n\u001b[1;32m---> <a href='vscode-notebook-cell:/c%3A/Users/Sebby/SYS320-SP22-New/SYS320-SP22/Week07/homework/SFtp.ipynb#ch0000001?line=33'>34</a>\u001b[0m     sftp\u001b[39m.\u001b[39;49mget(eachFile, local_path)\n\u001b[0;32m     <a href='vscode-notebook-cell:/c%3A/Users/Sebby/SYS320-SP22-New/SYS320-SP22/Week07/homework/SFtp.ipynb#ch0000001?line=34'>35</a>\u001b[0m ssh\u001b[39m.\u001b[39mclose()\n",
      "File \u001b[1;32m~\\AppData\\Local\\Programs\\Python\\Python310\\lib\\site-packages\\paramiko\\sftp_client.py:811\u001b[0m, in \u001b[0;36mSFTPClient.get\u001b[1;34m(self, remotepath, localpath, callback, prefetch)\u001b[0m\n\u001b[0;32m    <a href='file:///c%3A/Users/Sebby/AppData/Local/Programs/Python/Python310/lib/site-packages/paramiko/sftp_client.py?line=790'>791</a>\u001b[0m \u001b[39m\"\"\"\u001b[39;00m\n\u001b[0;32m    <a href='file:///c%3A/Users/Sebby/AppData/Local/Programs/Python/Python310/lib/site-packages/paramiko/sftp_client.py?line=791'>792</a>\u001b[0m \u001b[39mCopy a remote file (``remotepath``) from the SFTP server to the local\u001b[39;00m\n\u001b[0;32m    <a href='file:///c%3A/Users/Sebby/AppData/Local/Programs/Python/Python310/lib/site-packages/paramiko/sftp_client.py?line=792'>793</a>\u001b[0m \u001b[39mhost as ``localpath``.  Any exception raised by operations will be\u001b[39;00m\n\u001b[1;32m   (...)\u001b[0m\n\u001b[0;32m    <a href='file:///c%3A/Users/Sebby/AppData/Local/Programs/Python/Python310/lib/site-packages/paramiko/sftp_client.py?line=807'>808</a>\u001b[0m \u001b[39m    Added the ``prefetch`` keyword argument.\u001b[39;00m\n\u001b[0;32m    <a href='file:///c%3A/Users/Sebby/AppData/Local/Programs/Python/Python310/lib/site-packages/paramiko/sftp_client.py?line=808'>809</a>\u001b[0m \u001b[39m\"\"\"\u001b[39;00m\n\u001b[0;32m    <a href='file:///c%3A/Users/Sebby/AppData/Local/Programs/Python/Python310/lib/site-packages/paramiko/sftp_client.py?line=809'>810</a>\u001b[0m \u001b[39mwith\u001b[39;00m \u001b[39mopen\u001b[39m(localpath, \u001b[39m\"\u001b[39m\u001b[39mwb\u001b[39m\u001b[39m\"\u001b[39m) \u001b[39mas\u001b[39;00m fl:\n\u001b[1;32m--> <a href='file:///c%3A/Users/Sebby/AppData/Local/Programs/Python/Python310/lib/site-packages/paramiko/sftp_client.py?line=810'>811</a>\u001b[0m     size \u001b[39m=\u001b[39m \u001b[39mself\u001b[39;49m\u001b[39m.\u001b[39;49mgetfo(remotepath, fl, callback, prefetch)\n\u001b[0;32m    <a href='file:///c%3A/Users/Sebby/AppData/Local/Programs/Python/Python310/lib/site-packages/paramiko/sftp_client.py?line=811'>812</a>\u001b[0m s \u001b[39m=\u001b[39m os\u001b[39m.\u001b[39mstat(localpath)\n\u001b[0;32m    <a href='file:///c%3A/Users/Sebby/AppData/Local/Programs/Python/Python310/lib/site-packages/paramiko/sftp_client.py?line=812'>813</a>\u001b[0m \u001b[39mif\u001b[39;00m s\u001b[39m.\u001b[39mst_size \u001b[39m!=\u001b[39m size:\n",
      "File \u001b[1;32m~\\AppData\\Local\\Programs\\Python\\Python310\\lib\\site-packages\\paramiko\\sftp_client.py:786\u001b[0m, in \u001b[0;36mSFTPClient.getfo\u001b[1;34m(self, remotepath, fl, callback, prefetch)\u001b[0m\n\u001b[0;32m    <a href='file:///c%3A/Users/Sebby/AppData/Local/Programs/Python/Python310/lib/site-packages/paramiko/sftp_client.py?line=783'>784</a>\u001b[0m \u001b[39mif\u001b[39;00m prefetch:\n\u001b[0;32m    <a href='file:///c%3A/Users/Sebby/AppData/Local/Programs/Python/Python310/lib/site-packages/paramiko/sftp_client.py?line=784'>785</a>\u001b[0m     fr\u001b[39m.\u001b[39mprefetch(file_size)\n\u001b[1;32m--> <a href='file:///c%3A/Users/Sebby/AppData/Local/Programs/Python/Python310/lib/site-packages/paramiko/sftp_client.py?line=785'>786</a>\u001b[0m \u001b[39mreturn\u001b[39;00m \u001b[39mself\u001b[39;49m\u001b[39m.\u001b[39;49m_transfer_with_callback(\n\u001b[0;32m    <a href='file:///c%3A/Users/Sebby/AppData/Local/Programs/Python/Python310/lib/site-packages/paramiko/sftp_client.py?line=786'>787</a>\u001b[0m     reader\u001b[39m=\u001b[39;49mfr, writer\u001b[39m=\u001b[39;49mfl, file_size\u001b[39m=\u001b[39;49mfile_size, callback\u001b[39m=\u001b[39;49mcallback\n\u001b[0;32m    <a href='file:///c%3A/Users/Sebby/AppData/Local/Programs/Python/Python310/lib/site-packages/paramiko/sftp_client.py?line=787'>788</a>\u001b[0m )\n",
      "File \u001b[1;32m~\\AppData\\Local\\Programs\\Python\\Python310\\lib\\site-packages\\paramiko\\sftp_client.py:678\u001b[0m, in \u001b[0;36mSFTPClient._transfer_with_callback\u001b[1;34m(self, reader, writer, file_size, callback)\u001b[0m\n\u001b[0;32m    <a href='file:///c%3A/Users/Sebby/AppData/Local/Programs/Python/Python310/lib/site-packages/paramiko/sftp_client.py?line=675'>676</a>\u001b[0m size \u001b[39m=\u001b[39m \u001b[39m0\u001b[39m\n\u001b[0;32m    <a href='file:///c%3A/Users/Sebby/AppData/Local/Programs/Python/Python310/lib/site-packages/paramiko/sftp_client.py?line=676'>677</a>\u001b[0m \u001b[39mwhile\u001b[39;00m \u001b[39mTrue\u001b[39;00m:\n\u001b[1;32m--> <a href='file:///c%3A/Users/Sebby/AppData/Local/Programs/Python/Python310/lib/site-packages/paramiko/sftp_client.py?line=677'>678</a>\u001b[0m     data \u001b[39m=\u001b[39m reader\u001b[39m.\u001b[39;49mread(\u001b[39m32768\u001b[39;49m)\n\u001b[0;32m    <a href='file:///c%3A/Users/Sebby/AppData/Local/Programs/Python/Python310/lib/site-packages/paramiko/sftp_client.py?line=678'>679</a>\u001b[0m     writer\u001b[39m.\u001b[39mwrite(data)\n\u001b[0;32m    <a href='file:///c%3A/Users/Sebby/AppData/Local/Programs/Python/Python310/lib/site-packages/paramiko/sftp_client.py?line=679'>680</a>\u001b[0m     size \u001b[39m+\u001b[39m\u001b[39m=\u001b[39m \u001b[39mlen\u001b[39m(data)\n",
      "File \u001b[1;32m~\\AppData\\Local\\Programs\\Python\\Python310\\lib\\site-packages\\paramiko\\file.py:219\u001b[0m, in \u001b[0;36mBufferedFile.read\u001b[1;34m(self, size)\u001b[0m\n\u001b[0;32m    <a href='file:///c%3A/Users/Sebby/AppData/Local/Programs/Python/Python310/lib/site-packages/paramiko/file.py?line=216'>217</a>\u001b[0m     read_size \u001b[39m=\u001b[39m \u001b[39mmax\u001b[39m(\u001b[39mself\u001b[39m\u001b[39m.\u001b[39m_bufsize, read_size)\n\u001b[0;32m    <a href='file:///c%3A/Users/Sebby/AppData/Local/Programs/Python/Python310/lib/site-packages/paramiko/file.py?line=217'>218</a>\u001b[0m \u001b[39mtry\u001b[39;00m:\n\u001b[1;32m--> <a href='file:///c%3A/Users/Sebby/AppData/Local/Programs/Python/Python310/lib/site-packages/paramiko/file.py?line=218'>219</a>\u001b[0m     new_data \u001b[39m=\u001b[39m \u001b[39mself\u001b[39;49m\u001b[39m.\u001b[39;49m_read(read_size)\n\u001b[0;32m    <a href='file:///c%3A/Users/Sebby/AppData/Local/Programs/Python/Python310/lib/site-packages/paramiko/file.py?line=219'>220</a>\u001b[0m \u001b[39mexcept\u001b[39;00m \u001b[39mEOFError\u001b[39;00m:\n\u001b[0;32m    <a href='file:///c%3A/Users/Sebby/AppData/Local/Programs/Python/Python310/lib/site-packages/paramiko/file.py?line=220'>221</a>\u001b[0m     new_data \u001b[39m=\u001b[39m \u001b[39mNone\u001b[39;00m\n",
      "File \u001b[1;32m~\\AppData\\Local\\Programs\\Python\\Python310\\lib\\site-packages\\paramiko\\sftp_file.py:182\u001b[0m, in \u001b[0;36mSFTPFile._read\u001b[1;34m(self, size)\u001b[0m\n\u001b[0;32m    <a href='file:///c%3A/Users/Sebby/AppData/Local/Programs/Python/Python310/lib/site-packages/paramiko/sftp_file.py?line=179'>180</a>\u001b[0m size \u001b[39m=\u001b[39m \u001b[39mmin\u001b[39m(size, \u001b[39mself\u001b[39m\u001b[39m.\u001b[39mMAX_REQUEST_SIZE)\n\u001b[0;32m    <a href='file:///c%3A/Users/Sebby/AppData/Local/Programs/Python/Python310/lib/site-packages/paramiko/sftp_file.py?line=180'>181</a>\u001b[0m \u001b[39mif\u001b[39;00m \u001b[39mself\u001b[39m\u001b[39m.\u001b[39m_prefetching:\n\u001b[1;32m--> <a href='file:///c%3A/Users/Sebby/AppData/Local/Programs/Python/Python310/lib/site-packages/paramiko/sftp_file.py?line=181'>182</a>\u001b[0m     data \u001b[39m=\u001b[39m \u001b[39mself\u001b[39;49m\u001b[39m.\u001b[39;49m_read_prefetch(size)\n\u001b[0;32m    <a href='file:///c%3A/Users/Sebby/AppData/Local/Programs/Python/Python310/lib/site-packages/paramiko/sftp_file.py?line=182'>183</a>\u001b[0m     \u001b[39mif\u001b[39;00m data \u001b[39mis\u001b[39;00m \u001b[39mnot\u001b[39;00m \u001b[39mNone\u001b[39;00m:\n\u001b[0;32m    <a href='file:///c%3A/Users/Sebby/AppData/Local/Programs/Python/Python310/lib/site-packages/paramiko/sftp_file.py?line=183'>184</a>\u001b[0m         \u001b[39mreturn\u001b[39;00m data\n",
      "File \u001b[1;32m~\\AppData\\Local\\Programs\\Python\\Python310\\lib\\site-packages\\paramiko\\sftp_file.py:163\u001b[0m, in \u001b[0;36mSFTPFile._read_prefetch\u001b[1;34m(self, size)\u001b[0m\n\u001b[0;32m    <a href='file:///c%3A/Users/Sebby/AppData/Local/Programs/Python/Python310/lib/site-packages/paramiko/sftp_file.py?line=160'>161</a>\u001b[0m         \u001b[39mbreak\u001b[39;00m\n\u001b[0;32m    <a href='file:///c%3A/Users/Sebby/AppData/Local/Programs/Python/Python310/lib/site-packages/paramiko/sftp_file.py?line=161'>162</a>\u001b[0m     \u001b[39mself\u001b[39m\u001b[39m.\u001b[39msftp\u001b[39m.\u001b[39m_read_response()\n\u001b[1;32m--> <a href='file:///c%3A/Users/Sebby/AppData/Local/Programs/Python/Python310/lib/site-packages/paramiko/sftp_file.py?line=162'>163</a>\u001b[0m     \u001b[39mself\u001b[39;49m\u001b[39m.\u001b[39;49m_check_exception()\n\u001b[0;32m    <a href='file:///c%3A/Users/Sebby/AppData/Local/Programs/Python/Python310/lib/site-packages/paramiko/sftp_file.py?line=163'>164</a>\u001b[0m \u001b[39mif\u001b[39;00m offset \u001b[39mis\u001b[39;00m \u001b[39mNone\u001b[39;00m:\n\u001b[0;32m    <a href='file:///c%3A/Users/Sebby/AppData/Local/Programs/Python/Python310/lib/site-packages/paramiko/sftp_file.py?line=164'>165</a>\u001b[0m     \u001b[39mself\u001b[39m\u001b[39m.\u001b[39m_prefetching \u001b[39m=\u001b[39m \u001b[39mFalse\u001b[39;00m\n",
      "File \u001b[1;32m~\\AppData\\Local\\Programs\\Python\\Python310\\lib\\site-packages\\paramiko\\sftp_file.py:570\u001b[0m, in \u001b[0;36mSFTPFile._check_exception\u001b[1;34m(self)\u001b[0m\n\u001b[0;32m    <a href='file:///c%3A/Users/Sebby/AppData/Local/Programs/Python/Python310/lib/site-packages/paramiko/sftp_file.py?line=567'>568</a>\u001b[0m x \u001b[39m=\u001b[39m \u001b[39mself\u001b[39m\u001b[39m.\u001b[39m_saved_exception\n\u001b[0;32m    <a href='file:///c%3A/Users/Sebby/AppData/Local/Programs/Python/Python310/lib/site-packages/paramiko/sftp_file.py?line=568'>569</a>\u001b[0m \u001b[39mself\u001b[39m\u001b[39m.\u001b[39m_saved_exception \u001b[39m=\u001b[39m \u001b[39mNone\u001b[39;00m\n\u001b[1;32m--> <a href='file:///c%3A/Users/Sebby/AppData/Local/Programs/Python/Python310/lib/site-packages/paramiko/sftp_file.py?line=569'>570</a>\u001b[0m \u001b[39mraise\u001b[39;00m x\n",
      "File \u001b[1;32m~\\AppData\\Local\\Programs\\Python\\Python310\\lib\\site-packages\\paramiko\\sftp_file.py:547\u001b[0m, in \u001b[0;36mSFTPFile._async_response\u001b[1;34m(self, t, msg, num)\u001b[0m\n\u001b[0;32m    <a href='file:///c%3A/Users/Sebby/AppData/Local/Programs/Python/Python310/lib/site-packages/paramiko/sftp_file.py?line=543'>544</a>\u001b[0m \u001b[39mif\u001b[39;00m t \u001b[39m==\u001b[39m CMD_STATUS:\n\u001b[0;32m    <a href='file:///c%3A/Users/Sebby/AppData/Local/Programs/Python/Python310/lib/site-packages/paramiko/sftp_file.py?line=544'>545</a>\u001b[0m     \u001b[39m# save exception and re-raise it on next file operation\u001b[39;00m\n\u001b[0;32m    <a href='file:///c%3A/Users/Sebby/AppData/Local/Programs/Python/Python310/lib/site-packages/paramiko/sftp_file.py?line=545'>546</a>\u001b[0m     \u001b[39mtry\u001b[39;00m:\n\u001b[1;32m--> <a href='file:///c%3A/Users/Sebby/AppData/Local/Programs/Python/Python310/lib/site-packages/paramiko/sftp_file.py?line=546'>547</a>\u001b[0m         \u001b[39mself\u001b[39;49m\u001b[39m.\u001b[39;49msftp\u001b[39m.\u001b[39;49m_convert_status(msg)\n\u001b[0;32m    <a href='file:///c%3A/Users/Sebby/AppData/Local/Programs/Python/Python310/lib/site-packages/paramiko/sftp_file.py?line=547'>548</a>\u001b[0m     \u001b[39mexcept\u001b[39;00m \u001b[39mException\u001b[39;00m \u001b[39mas\u001b[39;00m e:\n\u001b[0;32m    <a href='file:///c%3A/Users/Sebby/AppData/Local/Programs/Python/Python310/lib/site-packages/paramiko/sftp_file.py?line=548'>549</a>\u001b[0m         \u001b[39mself\u001b[39m\u001b[39m.\u001b[39m_saved_exception \u001b[39m=\u001b[39m e\n",
      "File \u001b[1;32m~\\AppData\\Local\\Programs\\Python\\Python310\\lib\\site-packages\\paramiko\\sftp_client.py:907\u001b[0m, in \u001b[0;36mSFTPClient._convert_status\u001b[1;34m(self, msg)\u001b[0m\n\u001b[0;32m    <a href='file:///c%3A/Users/Sebby/AppData/Local/Programs/Python/Python310/lib/site-packages/paramiko/sftp_client.py?line=904'>905</a>\u001b[0m     \u001b[39mraise\u001b[39;00m \u001b[39mIOError\u001b[39;00m(errno\u001b[39m.\u001b[39mEACCES, text)\n\u001b[0;32m    <a href='file:///c%3A/Users/Sebby/AppData/Local/Programs/Python/Python310/lib/site-packages/paramiko/sftp_client.py?line=905'>906</a>\u001b[0m \u001b[39melse\u001b[39;00m:\n\u001b[1;32m--> <a href='file:///c%3A/Users/Sebby/AppData/Local/Programs/Python/Python310/lib/site-packages/paramiko/sftp_client.py?line=906'>907</a>\u001b[0m     \u001b[39mraise\u001b[39;00m \u001b[39mIOError\u001b[39;00m(text)\n",
      "\u001b[1;31mOSError\u001b[0m: Failure"
     ]
    }
   ],
   "source": [
    "sftp = ssh.open_sftp()\n",
    "# File to traverse a given directory andf it's subdirs and retrieve all the files\n",
    "command = ['sudo -S ps -ef' , 'sudo -S /home/ubuntu/kraken --folder /usr/bin --folder  --folder /usr/sbin/   --folder /usr/local/bin  --folder /sbin  --folder /usr/local/sbin  --folder /bin' , 'sudo -S lsof -p 148658', 'sudo -S lsof -i :8080','sudo -S grep p.dalton /etc/passwd','sudo -S last p.dalton','grep http-alt /etc/services', 'python3 download.py -d /home/p.dalton', 'sudo -S dir /home/p.dalton']\n",
    "files = ['/usr/lib/x86_64-linux-gnu/libc-2.31.so','/home/p.dalton/.d.log','/usr/local/bin/ls','/usr/lib/x86_64-linux-gnu/libpthread-2.31.so','/usr/lib/x86_64-linux-gnu/ld-2.31.so','/home/p.dalton/test-lk']\n",
    "for eachCMD in command:\n",
    "    # Get the output from the command\n",
    "    (stdin, stdout, stderr) = ssh.exec_command(eachCMD)\n",
    "    \n",
    "\n",
    "    stdin.write(thePass + \"\\n\")\n",
    "    # Get result from stdout\n",
    "    lines = stdout.readlines()\n",
    "    #print(lines)\n",
    "\n",
    "    #Convert the list to a string \n",
    "    output = ''.join(lines)\n",
    "    # Header output\n",
    "    sepHeader = '' + '### BEGIN ' + eachCMD + '###\\n\\n'\n",
    "    # Footer\n",
    "    sepFooter = '' + '### END ' + eachCMD + '###\\n\\n'\n",
    "\n",
    "    cmd_output = sepHeader + output + sepFooter\n",
    "\n",
    "    # Save the cmd output to a file\n",
    "    with open ('ssh_results.txt', 'a') as f:\n",
    "        f.write(cmd_output)\n",
    "    #print(output)\n",
    "\n",
    "for eachFile in files:\n",
    "    x = eachFile.split (\"/\")\n",
    "    filename = x [-1]\n",
    "    \n",
    "    local_path = \"remote_files/\" + filename\n",
    "    sftp.get(eachFile, local_path)\n",
    "ssh.close()\n",
    "\n"
   ]
  },
  {
   "cell_type": "code",
   "execution_count": null,
   "metadata": {},
   "outputs": [],
   "source": []
  }
 ],
 "metadata": {
  "interpreter": {
   "hash": "fa555297df5aa867e8766c8a3d7ff45a0885e46031eca6d567cdd3e7036a30ae"
  },
  "kernelspec": {
   "display_name": "Python 3.10.2 64-bit (windows store)",
   "language": "python",
   "name": "python3"
  },
  "language_info": {
   "codemirror_mode": {
    "name": "ipython",
    "version": 3
   },
   "file_extension": ".py",
   "mimetype": "text/x-python",
   "name": "python",
   "nbconvert_exporter": "python",
   "pygments_lexer": "ipython3",
   "version": "3.10.2"
  },
  "orig_nbformat": 4
 },
 "nbformat": 4,
 "nbformat_minor": 2
}
